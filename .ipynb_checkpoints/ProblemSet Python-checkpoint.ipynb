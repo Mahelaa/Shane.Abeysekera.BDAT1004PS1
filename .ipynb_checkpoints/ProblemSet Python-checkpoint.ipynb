{
 "cells": [
  {
   "cell_type": "code",
   "execution_count": 25,
   "metadata": {},
   "outputs": [],
   "source": [
    "#pig latin\n",
    "vowels = {\"a\", \"e\", \"i\", \"o\", \"u\", \"A\", \"E\", \"I\", \"O\", \"U\"}\n",
    "pig2=\"way\"\n",
    "\n",
    "def pig():\n",
    "    #input string\n",
    "    y=\"Stitrng\"\n",
    "    #Convert to lower case\n",
    "    y.lower()\n",
    "    #vowel check\n",
    "    if any(char in vowels for char in y):\n",
    "        pigword = f\"{y}{pig2}\"\n",
    "        print(pigword)\n",
    "    else:\n",
    "        print(\"goof\")"
   ]
  },
  {
   "cell_type": "code",
   "execution_count": 26,
   "metadata": {},
   "outputs": [
    {
     "name": "stdout",
     "output_type": "stream",
     "text": [
      "Stitrngway\n"
     ]
    }
   ],
   "source": [
    "pig()"
   ]
  },
  {
   "cell_type": "code",
   "execution_count": null,
   "metadata": {},
   "outputs": [],
   "source": []
  }
 ],
 "metadata": {
  "kernelspec": {
   "display_name": "Python 3",
   "language": "python",
   "name": "python3"
  },
  "language_info": {
   "codemirror_mode": {
    "name": "ipython",
    "version": 3
   },
   "file_extension": ".py",
   "mimetype": "text/x-python",
   "name": "python",
   "nbconvert_exporter": "python",
   "pygments_lexer": "ipython3",
   "version": "3.8.5"
  }
 },
 "nbformat": 4,
 "nbformat_minor": 4
}
