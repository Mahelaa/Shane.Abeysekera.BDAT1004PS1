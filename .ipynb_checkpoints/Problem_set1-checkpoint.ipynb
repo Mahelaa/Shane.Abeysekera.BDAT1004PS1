{
 "cells": [
  {
   "cell_type": "markdown",
   "metadata": {},
   "source": [
    "### Question 1\n",
    "**What data types are the folowing?**\n",
    "\n",
    "**Answers**\n",
    "\n",
    "1. 5 - **integer**\n",
    "2. 5.0 - **float**\n",
    "3. 5 > 1 - **integer**\n",
    "4. '5' - **string**\n",
    "5. 5 * 2 - **integer**\n",
    "6. '5' * 2 - **Character multiplied by integer**\n",
    "7. '5' + '2' - **characters**\n",
    "8. 5 / 2 - **integer**\n",
    "9. 5 // 2 - **integer // comment**\n",
    "10. [5, 2, 1] - **array**\n",
    "11. 5 in [1, 4, 6] - **Bool - false**\n",
    "12. Pi (the number) - **String? Double**"
   ]
  },
  {
   "cell_type": "markdown",
   "metadata": {},
   "source": [
    "### Question 2\n",
    "\n",
    "**Write (and evaluate) C# expressions that answer these questions:**\n",
    "\n",
    "a. How many letters are there in 'Supercalifragilisticexpialidocious'?\n",
    "\n",
    "b. Does 'Supercalifragilisticexpialidocious' contain 'ice' as a substring?\n",
    "\n",
    "c. Which of the following words is the longest:\n",
    "\n",
    "Supercalifragilisticexpialidocious, Honorificabilitudinitatibus, or\n",
    "Bababadalgharaghtakamminarronnkonn?\n",
    "\n",
    "d. Which composer comes first in the dictionary: 'Berlioz', 'Borodin', 'Brian',\n",
    "'Bartok', 'Bellini', 'Buxtehude', 'Bernstein'. Which one comes last?"
   ]
  },
  {
   "cell_type": "markdown",
   "metadata": {},
   "source": [
    "**Answers**\n",
    "\n",
    "//Source Code in ProblemSet CSharp Notebook//\n",
    "\n",
    "a. String letterCount = \"Supercalifragilisticexpialidocious\";\n",
    "letterCount.Length\n",
    "\n",
    "The count would give 34 Character\n",
    "\n",
    "b. Yes it does\n",
    "\n",
    "c. Bababadalgharaghtakamminarronnkonn is the longest word\n",
    "\n",
    "d. \n"
   ]
  },
  {
   "cell_type": "markdown",
   "metadata": {},
   "source": [
    "### Question 3\n",
    "\n",
    "Implement function triangleArea(a,b,c) that takes as input the lengths of the 3\n",
    "sides of a triangle and returns the area of the triangle. By Heron's formula, the area\n",
    "of a triangle with side lengths a, b, and c is\n",
    "s(s - a)(s -b)(s -c), where\n",
    "s = (a +b + c) /2.\n",
    ">>> triangleArea(2,2,2)\n",
    "1.7320508075688772\n",
    "\n",
    "**Answers**\n",
    "\n",
    "Console.WriteLine(\"Enter Side A\");\n",
    "int intA = Convert.ToInt32(Console.ReadLine());\n",
    "Console.WriteLine(\"Enter Side B\");\n",
    "int intB = Convert.ToInt32(Console.ReadLine());\n",
    "Console.WriteLine(\"Enter Side c\");\n",
    "int intC = Convert.ToInt32(Console.ReadLine());\n",
    "\n",
    "//Calculate Area\n",
    "int s = ((intA+intA+intA)/2);\n",
    "int area = (s(s-intA)(s-intB)(s-intC)\n",
    "Console.WriteLine(area);"
   ]
  },
  {
   "cell_type": "markdown",
   "metadata": {},
   "source": [
    "### Question 4\n",
    "\n",
    "Write a program in C# Sharp to separate odd and even integers in separate arrays.\n",
    "\n",
    "Go to the editor\n",
    "Test Data :\n",
    "\n",
    "Input the number of elements to be stored in the array :5\n",
    "\n",
    "Input 5 elements in the array :\n",
    "element - 0 : 25\n",
    "element - 1 : 47\n",
    "element - 2 : 42\n",
    "element - 3 : 56\n",
    "element - 4 : 32\n",
    "Expected Output:\n",
    "The Even elements are:\n",
    "42 56 32\n",
    "The Odd elements are :\n",
    "25 47\n",
    "\n",
    "**Answers**\n",
    "\n",
    "#Source code : https://stackoverflow.com/questions/49852022/sorting-grouping-odd-and-even-numbers-in-odd-and-even-segregated-list\n",
    "import numpy as np\n",
    "\n",
    "elements = [25,47,42,56,32]\n",
    "\n",
    "sort = np.sort(elements)\n",
    "evens = list(filter(lambda x: x%2==0, sort))  \n",
    "odds = list(filter(lambda x: x%2!=0, sort))\n",
    "\n",
    "print(\"Even Numbers : \" , evens)\n",
    "print(\"Odd Numbers : \" , odds)\n"
   ]
  },
  {
   "cell_type": "markdown",
   "metadata": {},
   "source": [
    "### Question 5\n",
    "\n",
    "a. Write a function inside(x,y,x1,y1,x2,y2) that returns True or False depending on whether the point (x,y) lies in the rectangle with lower left corner (x1,y1) and upper right corner (x2,y2).\n",
    "\n",
    ">>> inside(1,1,0,0,2,3)\n",
    "True\n",
    ">>> inside(-1,-1,0,0,2,3)\n",
    "False\n",
    "\n",
    "b. Use function inside() from part a. to write an expression that tests whether the point (1,1) lies in both of the following rectangles: one with lower left corner (0.3, 0.5) and upper right corner (1.1, 0.7) and the\n",
    "\n",
    "**ANSWER**\n",
    "\n",
    "No clue"
   ]
  },
  {
   "cell_type": "markdown",
   "metadata": {},
   "source": [
    "### Question 6\n",
    "\n",
    "16. You can turn a word into pig-Latin using the following two rules (simplified):\n",
    "• If the word starts with a consonant, move that letter to the end and append\n",
    "'ay'. For example, 'happy' becomes 'appyhay' and 'pencil' becomes 'encilpay'.\n",
    "• If the word starts with a vowel, simply append 'way' to the end of the word.\n",
    "For example, 'enter' becomes 'enterway' and 'other' becomes 'otherway' . For\n",
    "our purposes, there are 5 vowels: a, e, i, o, u (so we count y as a consonant).\n",
    "Write a function pig() that takes a word (i.e., a string) as input and returns its pig-\n",
    "Latin form. Your function should still work if the input word contains upper case\n",
    "characters. Your output should always be lower case however.\n",
    ">>> pig('happy')\n",
    "'appyhay'\n",
    ">>> pig('Enter')\n",
    "'enterway'"
   ]
  },
  {
   "cell_type": "code",
   "execution_count": 15,
   "metadata": {},
   "outputs": [],
   "source": [
    "#Answer\n",
    "\n",
    "#pig latin\n",
    "vowels = {\"a\", \"e\", \"i\", \"o\", \"u\", \"A\", \"E\", \"I\", \"O\", \"U\"}\n",
    "pig2=\"way\"\n",
    "\n",
    "\n",
    "def pig():\n",
    "    #input string\n",
    "    input = input(\"Enter Word\")\n",
    "    #Convert to lower case\n",
    "    y.lower()\n",
    "    #vowel check\n",
    "    if any(char in vowels for char in input):\n",
    "        pigword = f\"{y}{pig2}\"\n",
    "        print(pigword)\n",
    "    else:\n",
    "        #do the other thing\n",
    "        print(\"goof\")"
   ]
  },
  {
   "cell_type": "markdown",
   "metadata": {},
   "source": [
    "### Question 7\n",
    "\n",
    "Question 7 Python\n",
    "File bloodtype1.txt records blood-types of patients (A, B, AB, O or OO) at a clinic.\n",
    "Write a function bldcount() that reads the file with name name and reports (i.e.,\n",
    "prints) how many patients there are in each bloodtype."
   ]
  },
  {
   "cell_type": "code",
   "execution_count": 12,
   "metadata": {},
   "outputs": [
    {
     "name": "stdout",
     "output_type": "stream",
     "text": [
      "AB AB B O A A AB O AB A O O A A A O O O AB O A A A A A AB AB A AB O AB O A O O O AB O AB AB AB A A O \n",
      "{'AB': 13, 'B': 1, 'O': 15, 'A': 15}\n"
     ]
    }
   ],
   "source": [
    "#Answer\n",
    "#Open the file and convert into a string\n",
    "with open('bloodtype1.txt', 'r') as f:\n",
    "    data = f.read().replace('\\n', '')\n",
    "    print(data)\n",
    "    \n",
    "#word count function\n",
    "def bld_count(str):\n",
    "    counts = dict()\n",
    "    words = str.split()\n",
    "    \n",
    "    #Run word count to find occurences of the blood types\n",
    "    for word in words:\n",
    "        if word in counts:\n",
    "            counts[word] += 1\n",
    "        else:\n",
    "            counts[word] = 1\n",
    "    \n",
    "    return counts\n",
    "print(bld_count(data))"
   ]
  },
  {
   "cell_type": "markdown",
   "metadata": {},
   "source": [
    "### Question 8\n",
    "\n",
    "Write a function curconv() that takes as input:\n",
    "1. a currency represented using a string (e.g., 'JPY' for the Japanese Yen or\n",
    "'EUR' for the Euro)\n",
    "2. an amount\n",
    "and then converts and returns the amount in US dollars.\n",
    ">>> curconv('EUR', 100)\n",
    "122.96544\n",
    ">>> curconv('JPY', 100)\n",
    "1.241401\n"
   ]
  },
  {
   "cell_type": "code",
   "execution_count": null,
   "metadata": {},
   "outputs": [],
   "source": [
    "def curconv():\n",
    "    #input currency type\n",
    "    currency = input(\"Enter your currency: \") \n",
    "    #input amount\n",
    "    value = input(\"Enter Amount: \")\n",
    "    print(currency + \" \" + value)\n",
    "    #readfile and convert\n",
    "    with open('currencies.txt', 'r') as c:\n",
    "        data = c.read()\n",
    "        print(data)\n",
    "        return currency in data or (currency[0].lower() + currency[1:]) in data"
   ]
  },
  {
   "cell_type": "markdown",
   "metadata": {},
   "source": [
    "### Question 9\n",
    "\n",
    "**Each of the following will cause an exception (an error). Identify what type of exception each will cause.**\n",
    "\n",
    "Trying to add incompatible variables, as in adding 6 + ‘a’ - **type mismatch cannot add int with value string**\n",
    "\n",
    "Referring to the 12th item of a list that has only 10 items - **array index out of range**\n",
    "\n",
    "Using a value that is out of range for a function’s input, such as calling math.sqrt( 1.0) - \n",
    "\n",
    "Using an undeclared variable, such as print(x)\n",
    "when x has not been defined - **Name error Variable Undefined**\n",
    "\n",
    "Trying to open a file that does not exist, such as mistyping the file name or looking in the wrong directory.\n",
    "**FileNotFoundError - No such file or directory**"
   ]
  },
  {
   "cell_type": "markdown",
   "metadata": {},
   "source": [
    "### Question 10\n",
    "\n",
    "Encryption is the process of hiding the meaning of a text by substituting letters in the message with other letters, according to some system. If the process is successful, no one but the intended recipient can understand the encrypted message. Cryptanalysis refers to attempts to undo the encryption, even if some details of the encryption are unknown (for example, if an encrypted message has been intercepted). The first step of cryptanalysis is often to build up a table of letter frequencies in the encrypted text. Assume that the string letters is already defined as 'abcdefghijklmnopqrstuvwxyz'. Write a function called frequencies() that takes a string as its only parameter, and returns a list of integers, showing the number of times each character appears in the text. Your function may ignore any characters that are not in letters.\n",
    ">>> frequencies('The quick red fox got bored and went home.')\n",
    "[1, 1, 1, 3, 5, 1, 1, 2, 1, 0, 1, 0, 1, 2, 4, 0, 1, 2, 0, 2, 1, 0, 1, 1, 0, 0]\n",
    ">>> frequencies('apple')"
   ]
  },
  {
   "cell_type": "code",
   "execution_count": null,
   "metadata": {},
   "outputs": [],
   "source": []
  }
 ],
 "metadata": {
  "kernelspec": {
   "display_name": "Python 3",
   "language": "python",
   "name": "python3"
  },
  "language_info": {
   "codemirror_mode": {
    "name": "ipython",
    "version": 3
   },
   "file_extension": ".py",
   "mimetype": "text/x-python",
   "name": "python",
   "nbconvert_exporter": "python",
   "pygments_lexer": "ipython3",
   "version": "3.8.5"
  }
 },
 "nbformat": 4,
 "nbformat_minor": 4
}
