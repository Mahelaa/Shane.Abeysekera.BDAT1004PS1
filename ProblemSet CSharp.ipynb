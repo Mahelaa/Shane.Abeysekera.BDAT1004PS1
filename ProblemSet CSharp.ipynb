{
 "cells": [
  {
   "cell_type": "code",
   "execution_count": 1,
   "metadata": {
    "scrolled": true
   },
   "outputs": [
    {
     "data": {
      "text/plain": [
       "34"
      ]
     },
     "execution_count": 1,
     "metadata": {},
     "output_type": "execute_result"
    }
   ],
   "source": [
    "String sourceMessage = \"Supercalifragilisticexpialidocious\";\n",
    "sourceMessage.Length"
   ]
  },
  {
   "cell_type": "code",
   "execution_count": 2,
   "metadata": {},
   "outputs": [
    {
     "name": "stdout",
     "output_type": "stream",
     "text": [
      "Supercalifragilisticexpialidocious  (match for 'ice' found)\n"
     ]
    }
   ],
   "source": [
    "//Source : https://docs.microsoft.com/en-us/dotnet/csharp/how-to/search-strings#code-try-1\n",
    "string[] sentences =\n",
    "{\n",
    "    \"Supercalifragilisticexpialidocious\",\n",
    "};\n",
    "\n",
    "string sPattern = \"ice\";\n",
    "\n",
    "foreach (string s in sentences)\n",
    "{\n",
    "    Console.Write($\"{s,24}\");\n",
    "\n",
    "    if (System.Text.RegularExpressions.Regex.IsMatch(s, sPattern, System.Text.RegularExpressions.RegexOptions.IgnoreCase))\n",
    "    {\n",
    "        Console.WriteLine($\"  (match for '{sPattern}' found)\");\n",
    "    }\n",
    "    else\n",
    "    {\n",
    "        Console.WriteLine();\n",
    "    }\n",
    "}"
   ]
  },
  {
   "cell_type": "code",
   "execution_count": 7,
   "metadata": {},
   "outputs": [
    {
     "name": "stdout",
     "output_type": "stream",
     "text": [
      "Supercalifragilisticexpialidocious is Shorter than Bababadalgharaghtakamminarronnkonn\n"
     ]
    }
   ],
   "source": [
    "string[] sentences =\n",
    "{\n",
    "    \"Supercalifragilisticexpialidocious\",\n",
    "    \"Honorificabilitudinitatibus\",\n",
    "    \"Bababadalgharaghtakamminarronnkonn\"\n",
    "};\n",
    "\n",
    "int ticker = 0;\n",
    "\n",
    "if(sentences[0].Length > sentences[1].Length){\n",
    "    if(sentences[0].Length > sentences[2].Length){\n",
    "        Console.WriteLine(\"Longer\");\n",
    "    } else {\n",
    "        Console.WriteLine(sentences[0] + \" is Shorter than \" +sentences[2]);\n",
    "    }\n",
    "}"
   ]
  },
  {
   "cell_type": "code",
   "execution_count": 10,
   "metadata": {},
   "outputs": [
    {
     "ename": "Unhandled Exception",
     "evalue": "(5,11): error CS1501: No overload for method 'Sort' takes 0 arguments",
     "output_type": "error",
     "traceback": [
      "(5,11): error CS1501: No overload for method 'Sort' takes 0 arguments"
     ]
    }
   ],
   "source": [
    "string[] composers = {\n",
    "    \"Berlioz\" , \"Borodin\", \"Brian\", \"Bartok\", \"Bellini\", \"Buxtehude\", \"Bernstein\"\n",
    "};\n",
    "\n",
    "int ticker = 0\n",
    "    for(ticker)\n",
    "composers.Sort();    "
   ]
  },
  {
   "cell_type": "code",
   "execution_count": 27,
   "metadata": {},
   "outputs": [
    {
     "name": "stdout",
     "output_type": "stream",
     "text": [
      "System.Linq.Enumerable+WhereListIterator`1[<>f__AnonymousType0#10`2[System.Int32,System.Int32]]\n",
      "System.Linq.Enumerable+WhereListIterator`1[<>f__AnonymousType0#10`2[System.Int32,System.Int32]]\n"
     ]
    }
   ],
   "source": [
    "String[] inputs = new String[5];\n",
    "var nums = new[] { 5, 3, 2, 8, 1, 4 };\n",
    "var indexedNums = nums.Select((num, idx) => new { num, idx }).ToList();\n",
    "\n",
    "int intTemp = Convert.ToInt32(Console.ReadLine());\n",
    "\n",
    "//Sort by value\n",
    "var evens = indexedNums.Where(x => x.num % 2 == 0);\n",
    "var odds = indexedNums.Where(x => x.num % 2 == 1);\n",
    "\n",
    "Console.WriteLine(evens);\n",
    "Console.WriteLine(odds);\n"
   ]
  },
  {
   "cell_type": "code",
   "execution_count": null,
   "metadata": {},
   "outputs": [],
   "source": []
  },
  {
   "cell_type": "code",
   "execution_count": null,
   "metadata": {},
   "outputs": [],
   "source": []
  }
 ],
 "metadata": {
  "kernelspec": {
   "display_name": ".NET (C#)",
   "language": "C#",
   "name": ".net-csharp"
  },
  "language_info": {
   "file_extension": ".cs",
   "mimetype": "text/x-csharp",
   "name": "C#",
   "pygments_lexer": "csharp",
   "version": "8.0"
  }
 },
 "nbformat": 4,
 "nbformat_minor": 4
}
